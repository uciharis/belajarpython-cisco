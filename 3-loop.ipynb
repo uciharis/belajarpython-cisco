{
 "cells": [
  {
   "attachments": {},
   "cell_type": "markdown",
   "metadata": {},
   "source": [
    "Looping\n",
    "\n",
    "1. Loop kode dengan while\n",
    "\n",
    "algoritmanya sbb:\n",
    "\n",
    "while ada sesuatu utk dikerjakan\n",
    "    do tsb\n",
    "\n",
    "atau\n",
    "\n",
    "while conditional_expression:\n",
    "    instruction\n",
    "\n",
    "- ada kemiripan dg if, yaitu while + kondisional + \" : \"\n",
    "- perbedaannya adalah, jika kondisi terpenuhi, \"if\" maka lakukan statement sekali\n",
    "- sedangkan while, mengulang statemen selama kondisinya True\n",
    "\n",
    "algoritma lengkapnya sbb:\n",
    "while conditional_expression:\n",
    "    instruksi_1\n",
    "    instruksi_2\n",
    "    .\n",
    "    .\n",
    "    .\n",
    "    instruksi_n\n",
    "\n",
    "- jika ingin eksekusi lebih dari 1 statemen, berikan instruksi dalam indentasi yang sama\n",
    "- sebuah instruksi atau beberapa instruksi dieksekusi didalam while dinamakan loop's body\n",
    "- jika kondisi False, instruksi tidak akan dieksekusi\n",
    "- loop's body harus berubah nilainya, jika kondisi selalu True,akan terjadi eksekusi tanpa henti ( biasanya kondisi diset hitung mundur)"
   ]
  },
  {
   "attachments": {},
   "cell_type": "markdown",
   "metadata": {},
   "source": [
    "Infinite Loop\n",
    "\n",
    "-atau endless loop. terjadi karna instruksi tdk bs berubah nilai jadi False\n",
    "contoh:\n",
    "\n",
    "while True:\n",
    "    print(\"ini endless Looop\")"
   ]
  },
  {
   "attachments": {},
   "cell_type": "markdown",
   "metadata": {},
   "source": [
    "amati perilaku kode Loop di file 3-loop-analisakode.py"
   ]
  },
  {
   "attachments": {},
   "cell_type": "markdown",
   "metadata": {},
   "source": [
    "2. Looping kode dengan for\n",
    "\n",
    "sebelumnya kita belajar Looping dengan while\n",
    "hal ini berhubungan dengan \"lebih penting menghitung giliran\" pada Loop ketimbang mengecek kondisi\n",
    "\n",
    "berikut kode menggunakan while utk melakukan Loop sebanyak 10x :"
   ]
  },
  {
   "cell_type": "code",
   "execution_count": 2,
   "metadata": {},
   "outputs": [],
   "source": [
    "i=0\n",
    "while i<10:\n",
    "    i+=1"
   ]
  },
  {
   "attachments": {},
   "cell_type": "markdown",
   "metadata": {},
   "source": [
    "dan for adalah spesial Loop untuk melakukan ini\n",
    "sebenarnya, for didesain utk melakukan tugas complicated \"it can browse large collection of data item by item.\n",
    "utk saat ini, kita tampilkan pengaplikasian sederhana pada for\n",
    "berikut potongan kode nya:\n",
    "\n",
    "for i in range (100):\n",
    "    do_something()\n",
    "    pass\n",
    "\n",
    "beberapa penjelasan ttg kode diatas:\n",
    "- semua variabel setelah keyword \"for\" adalah variabel kontrol. variabel tsb melakukan count berapa Loop nya\n",
    "- keyword \"in\" menjelaskan range dari nilai yang mungkin di assign ke variabel kontrol\n",
    "- fungsi spesial \"range\" menggenerate semua nilai yang diinginkan dari variabel kontrol. fungsi range dimulai dari hitungan 0 dan \"finish\" 1 langkah sebelum nilai argumen. dalam contoh kode diatas, i dimulai dr 0 dan finish di nilai 99\n",
    "- keyword \"pass\" didalam loop body, tidak eksekusi apapun. hanya sbg instruksi kosong. hal ini dikarenakan sintak loop perlu minimal 1 instruksi di dalam body nya( begitu juga dengan if,elif, else dan while)\n",
    "\n",
    "coba prediksi output dr snippet berikut:"
   ]
  },
  {
   "cell_type": "code",
   "execution_count": 3,
   "metadata": {},
   "outputs": [
    {
     "name": "stdout",
     "output_type": "stream",
     "text": [
      "nilai i sekarang adalah 0\n",
      "nilai i sekarang adalah 1\n",
      "nilai i sekarang adalah 2\n",
      "nilai i sekarang adalah 3\n",
      "nilai i sekarang adalah 4\n",
      "nilai i sekarang adalah 5\n",
      "nilai i sekarang adalah 6\n",
      "nilai i sekarang adalah 7\n",
      "nilai i sekarang adalah 8\n",
      "nilai i sekarang adalah 9\n"
     ]
    }
   ],
   "source": [
    "for i in range(10):\n",
    "    print(\"nilai i sekarang adalah\", i)"
   ]
  },
  {
   "attachments": {},
   "cell_type": "markdown",
   "metadata": {},
   "source": [
    "coba snippet berikut ini juga:"
   ]
  },
  {
   "cell_type": "code",
   "execution_count": 4,
   "metadata": {},
   "outputs": [
    {
     "name": "stdout",
     "output_type": "stream",
     "text": [
      "nilai i sekarang adalah : 2\n",
      "nilai i sekarang adalah : 3\n",
      "nilai i sekarang adalah : 4\n",
      "nilai i sekarang adalah : 5\n",
      "nilai i sekarang adalah : 6\n",
      "nilai i sekarang adalah : 7\n"
     ]
    }
   ],
   "source": [
    "for i in range(2,8):\n",
    "    print(\"nilai i sekarang adalah :\",i)"
   ]
  },
  {
   "attachments": {},
   "cell_type": "markdown",
   "metadata": {},
   "source": [
    "jika range berisi 2 argumen, nilai pertama adalah nilai initial(start) dan nilai kedua adalah batas range nya dan mengembalikan nilai tepat 1 sebelum nilai tsb (nilai 7, bukan 8)\n",
    "\n",
    "bagaimana jika berisi 3 argumen ? berikut contohnya:"
   ]
  },
  {
   "cell_type": "code",
   "execution_count": 5,
   "metadata": {},
   "outputs": [
    {
     "name": "stdout",
     "output_type": "stream",
     "text": [
      "nilai i aktual adalah: 2\n",
      "nilai i aktual adalah: 4\n",
      "nilai i aktual adalah: 6\n"
     ]
    }
   ],
   "source": [
    "for i in range(2,8,2):\n",
    "    print(\"nilai i aktual adalah:\",i)"
   ]
  },
  {
   "attachments": {},
   "cell_type": "markdown",
   "metadata": {},
   "source": [
    "penjelasan:\n",
    "range(a,b,c) artinya adalah a merupakan nilai inisial/start, b adalah nilai batas, c adalah nilai incrementnya\n",
    "=> 2, (2+2), (4+2), stop(batas nilai : 8)"
   ]
  },
  {
   "attachments": {},
   "cell_type": "markdown",
   "metadata": {},
   "source": [
    "coba analisa snippet berikut:"
   ]
  },
  {
   "cell_type": "code",
   "execution_count": 9,
   "metadata": {},
   "outputs": [
    {
     "name": "stdout",
     "output_type": "stream",
     "text": [
      "2 pangkat 0 is 1\n",
      "2 pangkat 1 is 2\n",
      "2 pangkat 2 is 4\n",
      "2 pangkat 3 is 8\n",
      "2 pangkat 4 is 16\n",
      "2 pangkat 5 is 32\n"
     ]
    }
   ],
   "source": [
    "power =1\n",
    "for expo in range(6):\n",
    "    #power*=2 tidak bs ditaruh disini\n",
    "    print(\"2 pangkat\", expo, \"is\", power)\n",
    "    power*=2"
   ]
  },
  {
   "attachments": {},
   "cell_type": "markdown",
   "metadata": {},
   "source": [
    "3. break dan continue pada Loop\n",
    "\n",
    "sejauh ini kita memperlakukan body loop sebagai urutan tak terpisahkan yang tereksekusi secara komplit disetiap turn loop nyaa.\n",
    "namun sebagai dev, kita akan menghadapi beberapa pilihan berikut:\n",
    "- akan terjadi bahwa tidak perlu melanjutkan semua bagian loop. kita harus \"pause\" agar eksekusi tidak terlalu jauh\n",
    "- mungkin perlu melanjutkan giliran selanjutnya suatu loop tanpa menyelesaikan eksekusi pada turn sekarang\n",
    "\n",
    "Python menyediakan 2 instruksi spesial utk implementasi diatas. meskipun dev berpengalaman bs merancang algoritma diatas tanpa break dan continue, namun adanya 2 instruksi diatas sangat mempermudah tugas dev. maka fungsi ini biasa disebut syntatic candy atau syntatic sugar\n",
    "\n",
    "keyword tsb yaitu:\n",
    "- break -- keluar dari loop seketika dan tanpa suatu kondisi, mengakhiri loop. program akan memulai eksekusi instruksi terdekat setelah loop body\n",
    "- continue -- berperilaku seolah-olah program mencapai akhir loop body, lalu giliran selanjutnya dimulai dan kondisi ekspresi ditest kembali\n",
    "\n",
    "contoh penggunaan break dan continue adalah sbb:"
   ]
  },
  {
   "cell_type": "code",
   "execution_count": 10,
   "metadata": {},
   "outputs": [
    {
     "name": "stdout",
     "output_type": "stream",
     "text": [
      "The break instruction:\n",
      "Inside the loop. 1\n",
      "Inside the loop. 2\n",
      "Outside the loop.\n",
      "\n",
      "The continue instruction:\n",
      "Inside the loop. 1\n",
      "Inside the loop. 2\n",
      "Inside the loop. 4\n",
      "Inside the loop. 5\n",
      "Outside the loop.\n"
     ]
    }
   ],
   "source": [
    "# break - example\n",
    "\n",
    "print(\"The break instruction:\")\n",
    "for i in range(1, 6):\n",
    "    if i == 3:\n",
    "        break\n",
    "    print(\"Inside the loop.\", i)\n",
    "print(\"Outside the loop.\")\n",
    "\n",
    "\n",
    "# continue - example\n",
    "\n",
    "print(\"\\nThe continue instruction:\")\n",
    "for i in range(1, 6):\n",
    "    if i == 3:\n",
    "        continue\n",
    "    print(\"Inside the loop.\", i)\n",
    "print(\"Outside the loop.\")"
   ]
  }
 ],
 "metadata": {
  "kernelspec": {
   "display_name": "Python 3",
   "language": "python",
   "name": "python3"
  },
  "language_info": {
   "codemirror_mode": {
    "name": "ipython",
    "version": 3
   },
   "file_extension": ".py",
   "mimetype": "text/x-python",
   "name": "python",
   "nbconvert_exporter": "python",
   "pygments_lexer": "ipython3",
   "version": "3.10.10"
  },
  "orig_nbformat": 4
 },
 "nbformat": 4,
 "nbformat_minor": 2
}
