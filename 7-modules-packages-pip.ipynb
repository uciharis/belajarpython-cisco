{
 "cells": [
  {
   "attachments": {},
   "cell_type": "markdown",
   "metadata": {},
   "source": [
    "Modules, Packages and PIP\n",
    "\n",
    "module = file python berisi definisi dan statemen yang bisa diimport dan dipakai kemudian jika membutuhkan.\n",
    "\n",
    "module dikenali dr namanya. jika kamu ingin menggunakan modul, perlu diketahui namanya. sejumlah module biasanya sudah sepaket dengan python itu sendiri. hal tsb biasa disebut \"peralatan ekstra python\"\n",
    "\n",
    "beberapa module, bersama-sama dengan fungsi built-in, membentuk librari standar python (kumpulan librari spesial dimana modules berperan sebagai buku). untuk melihat daftar lengkap semua koleksi librari, dapat mengakses disini : https://docs.python.org/3/library/index.html\n",
    "\n",
    "setiap modul terdiri dari entiti layaknya buku berisi beberapa bab. entiti bs terdiri dari fungsi, variabel, konstanta, klas atau objek. jika mengetahui cara mengakses module yang diinginkan, kita dapat menggunakan semua entiti yang disimpan."
   ]
  }
 ],
 "metadata": {
  "language_info": {
   "name": "python"
  },
  "orig_nbformat": 4
 },
 "nbformat": 4,
 "nbformat_minor": 2
}
