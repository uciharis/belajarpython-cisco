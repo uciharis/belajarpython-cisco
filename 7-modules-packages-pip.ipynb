{
 "cells": [
  {
   "attachments": {},
   "cell_type": "markdown",
   "metadata": {},
   "source": [
    "Modules, Packages and PIP\n",
    "\n",
    "module = file python berisi definisi dan statemen yang bisa diimport dan dipakai kemudian jika membutuhkan.\n",
    "\n",
    "module dikenali dr namanya. jika kamu ingin menggunakan modul, perlu diketahui namanya. sejumlah module biasanya sudah sepaket dengan python itu sendiri. hal tsb biasa disebut \"peralatan ekstra python\"\n",
    "\n",
    "beberapa module, bersama-sama dengan fungsi built-in, membentuk librari standar python (kumpulan librari spesial dimana modules berperan sebagai buku). untuk melihat daftar lengkap semua koleksi librari, dapat mengakses disini : https://docs.python.org/3/library/index.html\n",
    "\n",
    "setiap modul terdiri dari entiti layaknya buku berisi beberapa bab. entiti bs terdiri dari fungsi, variabel, konstanta, klas atau objek. jika mengetahui cara mengakses module yang diinginkan, kita dapat menggunakan semua entiti yang disimpan."
   ]
  },
  {
   "attachments": {},
   "cell_type": "markdown",
   "metadata": {},
   "source": [
    "Mengimport Module\n",
    "\n",
    "untuk membuat module dapat digunakan, kita harus melakukan import pada module tsb. Mengimport module menggunakan instruksi(keyword) bernama \"import\".\n",
    "\n",
    "contoh cara mengimport module bernama math :\n",
    "\n",
    "import math\n",
    "\n",
    "atau mengimport beberapa module :\n",
    "\n",
    "import math\n",
    "import sys\n",
    "\n",
    "atau :\n",
    "\n",
    "import math, sys"
   ]
  },
  {
   "attachments": {},
   "cell_type": "markdown",
   "metadata": {},
   "source": [
    "Namespace\n",
    "\n",
    "adalah space yang berisi nama serta tidak konflik satu sama lain. namespace adalah unik, dan keunikan tsb bisa berasal dari nickname yang diambil dari nama pertama atau dari spesial identitas. contoh namespace seperti saat melakukan import module math yang berisi entiti pi\n",
    "\n",
    "import math pi"
   ]
  },
  {
   "cell_type": "code",
   "execution_count": null,
   "metadata": {},
   "outputs": [],
   "source": [
    "import math\n",
    "print(math.sin(math.pi/2))"
   ]
  },
  {
   "attachments": {},
   "cell_type": "markdown",
   "metadata": {},
   "source": [
    "Import Module (2)\n",
    "\n",
    "cara kedua adalah dengan mengimport secara tepat entiti dari suatu module menggunakan keyword \"from\" dan \"import\"\n",
    "\n",
    "from math import pi\n",
    "\n",
    "contoh import lainnya:\n",
    "\n",
    "from math import sin, pi\n",
    "\n",
    "print(sin(pi/2))\n",
    "\n"
   ]
  },
  {
   "attachments": {},
   "cell_type": "markdown",
   "metadata": {},
   "source": [
    "Import Module (3)\n",
    "\n",
    "cara ketiga adalah dengan metode brutal yaitu:\n",
    "\n",
    "from math import *\n",
    "\n",
    "\"*\" dikenal dengan istilah wild card, digunakan utk mengimport semua entiti pada module"
   ]
  },
  {
   "attachments": {},
   "cell_type": "markdown",
   "metadata": {},
   "source": [
    "Membuat Alias\n",
    "\n",
    "kita juga dapat mengganti nama sementara dari module agar dapat digunakan lebih ringkas yaitu menggunakan keyword \"as\".  contoh :\n",
    "\n",
    "import math as ma\n",
    "print(ma.sin(ma.pi/2))\n",
    "\n",
    "atau juga kita bs melakukan alias pada entiti. contoh :\n",
    "\n",
    "from math import pi as phi, sin as s1n\n",
    "\n",
    "print(s1n(phi/2)\n"
   ]
  },
  {
   "attachments": {},
   "cell_type": "markdown",
   "metadata": {},
   "source": [
    "fungsi dir()\n",
    "\n",
    "dir() digunakan utk melihat nama entiti di dalam sebuah modul.\n",
    "cara mengecek isian module dengan dir() adalah sbb:\n",
    "\n",
    "import math\n",
    "for entiti in dir(math):\n",
    "    print(entiti, end=\"\\t\")\n",
    "\n",
    "\n",
    "output :\n",
    "\n",
    "__doc__\t__file__\t__loader__\t__name__\t__package__\t__spec__\tacos\tacosh\tasin\tasinh\tatan\tatan2\tatanh\tceil\tcomb\tcopysign\tcos\tcosh\tdegrees\tdist\te\terf\terfc\texp\texpm1\tfabs\tfactorial\tfloor\tfmod\tfrexp\tfsum\tgamma\tgcd\thypot\tinf\tisclose\tisfinite\tisinf\tisnan\tisqrt\tldexp\tlgamma\tlog\tlog10\tlog1p\tlog2\tmodf\tnan\tperm\tpi\tpow\tprod\tradians\tremainder\tsin\tsinh\tsqrt\ttan\ttanh\ttau\ttrunc\t\n",
    "\n",
    "\n",
    "atau kita juga bisa langsung melakukan dir(module) di IDLE python secara langsung utk melihat entiti pada module tsb. tetapi jangan lupa module nya diimport dulu\n",
    "\n"
   ]
  }
 ],
 "metadata": {
  "kernelspec": {
   "display_name": "Python 3",
   "language": "python",
   "name": "python3"
  },
  "language_info": {
   "codemirror_mode": {
    "name": "ipython",
    "version": 3
   },
   "file_extension": ".py",
   "mimetype": "text/x-python",
   "name": "python",
   "nbconvert_exporter": "python",
   "pygments_lexer": "ipython3",
   "version": "3.10.10"
  },
  "orig_nbformat": 4
 },
 "nbformat": 4,
 "nbformat_minor": 2
}
