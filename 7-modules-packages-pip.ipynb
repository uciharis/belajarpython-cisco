{
 "cells": [
  {
   "attachments": {},
   "cell_type": "markdown",
   "metadata": {},
   "source": [
    "Modules, Packages and PIP\n",
    "\n",
    "module = file python berisi definisi dan statemen yang bisa diimport dan dipakai kemudian jika membutuhkan.\n",
    "\n",
    "module dikenali dr namanya. jika kamu ingin menggunakan modul, perlu diketahui namanya. sejumlah module biasanya sudah sepaket dengan python itu sendiri. hal tsb biasa disebut \"peralatan ekstra python\"\n",
    "\n",
    "beberapa module, bersama-sama dengan fungsi built-in, membentuk librari standar python (kumpulan librari spesial dimana modules berperan sebagai buku). untuk melihat daftar lengkap semua koleksi librari, dapat mengakses disini : https://docs.python.org/3/library/index.html\n",
    "\n",
    "setiap modul terdiri dari entiti layaknya buku berisi beberapa bab. entiti bs terdiri dari fungsi, variabel, konstanta, klas atau objek. jika mengetahui cara mengakses module yang diinginkan, kita dapat menggunakan semua entiti yang disimpan."
   ]
  },
  {
   "attachments": {},
   "cell_type": "markdown",
   "metadata": {},
   "source": [
    "Mengimport Module\n",
    "\n",
    "untuk membuat module dapat digunakan, kita harus melakukan import pada module tsb. Mengimport module menggunakan instruksi(keyword) bernama \"import\".\n",
    "\n",
    "contoh cara mengimport module bernama math :\n",
    "\n",
    "```\n",
    "import math\n",
    "```\n",
    "atau mengimport beberapa module :\n",
    "\n",
    "```\n",
    "import math\n",
    "import sys\n",
    "```\n",
    "atau :\n",
    "```\n",
    "import math, sys\n",
    "```"
   ]
  },
  {
   "attachments": {},
   "cell_type": "markdown",
   "metadata": {},
   "source": [
    "Namespace\n",
    "\n",
    "adalah space yang berisi nama serta tidak konflik satu sama lain. namespace adalah unik, dan keunikan tsb bisa berasal dari nickname yang diambil dari nama pertama atau dari spesial identitas. contoh namespace seperti saat melakukan import module math yang berisi entiti pi\n",
    "\n",
    "import math pi"
   ]
  },
  {
   "cell_type": "code",
   "execution_count": null,
   "metadata": {},
   "outputs": [],
   "source": [
    "import math\n",
    "print(math.sin(math.pi/2))"
   ]
  },
  {
   "attachments": {},
   "cell_type": "markdown",
   "metadata": {},
   "source": [
    "Import Module (2)\n",
    "\n",
    "cara kedua adalah dengan mengimport secara tepat entiti dari suatu module menggunakan keyword \"from\" dan \"import\"\n",
    "\n",
    "```\n",
    "from math import pi\n",
    "```\n",
    "\n",
    "contoh import lainnya:\n",
    "\n",
    "```\n",
    "\n",
    "from math import sin, pi\n",
    "\n",
    "print(sin(pi/2))\n",
    "```\n"
   ]
  },
  {
   "attachments": {},
   "cell_type": "markdown",
   "metadata": {},
   "source": [
    "Import Module (3)\n",
    "\n",
    "cara ketiga adalah dengan metode brutal yaitu:\n",
    "\n",
    "from math import *\n",
    "\n",
    "\"*\" dikenal dengan istilah wild card, digunakan utk mengimport semua entiti pada module"
   ]
  },
  {
   "attachments": {},
   "cell_type": "markdown",
   "metadata": {},
   "source": [
    "Membuat Alias\n",
    "\n",
    "kita juga dapat mengganti nama sementara dari module agar dapat digunakan lebih ringkas yaitu menggunakan keyword \"as\".  contoh :\n",
    "\n",
    "```\n",
    "import math as ma\n",
    "print(ma.sin(ma.pi/2))\n",
    "```\n",
    "\n",
    "atau juga kita bs melakukan alias pada entiti. contoh :\n",
    "\n",
    "```\n",
    "from math import pi as phi, sin as s1n\n",
    "\n",
    "print(s1n(phi/2)\n",
    "```\n"
   ]
  },
  {
   "attachments": {},
   "cell_type": "markdown",
   "metadata": {},
   "source": [
    "fungsi dir()\n",
    "\n",
    "dir() digunakan utk melihat nama entiti di dalam sebuah modul.\n",
    "cara mengecek isian module dengan dir() adalah sbb:\n",
    "\n",
    "import math\n",
    "for entiti in dir(math):\n",
    "    print(entiti, end=\"\\t\")\n",
    "\n",
    "\n",
    "output :\n",
    "\n",
    "__doc__\t__file__\t__loader__\t__name__\t__package__\t__spec__\tacos\tacosh\tasin\tasinh\tatan\tatan2\tatanh\tceil\tcomb\tcopysign\tcos\tcosh\tdegrees\tdist\te\terf\terfc\texp\texpm1\tfabs\tfactorial\tfloor\tfmod\tfrexp\tfsum\tgamma\tgcd\thypot\tinf\tisclose\tisfinite\tisinf\tisnan\tisqrt\tldexp\tlgamma\tlog\tlog10\tlog1p\tlog2\tmodf\tnan\tperm\tpi\tpow\tprod\tradians\tremainder\tsin\tsinh\tsqrt\ttan\ttanh\ttau\ttrunc\t\n",
    "\n",
    "\n",
    "atau kita juga bisa langsung melakukan dir (module) di IDLE python secara langsung utk melihat entiti pada module tsb. tetapi jangan lupa module nya diimport dulu\n",
    "\n"
   ]
  },
  {
   "attachments": {},
   "cell_type": "markdown",
   "metadata": {},
   "source": [
    "module yang cukup penting yaitu modul bernama random. modul ini memungkinkan untuk mengoperasikan nomor (pseudo) random. Makna pseudo bermakna bahwa modul ini sekilas terlihat menghasilkan keacakan sehingga anda tidak dapat memprediksinya. Faktanya, modul ini melakukan perhitungan dengan algoritma yang sangat halus.\n",
    "\n",
    "generator angka acak menggunakan nilai yang disebut seed, lalu menjadikannya sbg inputan lalu memproses angka \"acak\" berdasarkan algoritma halus tersebut lalu menghasilkan seed yang baru.\n"
   ]
  },
  {
   "cell_type": "code",
   "execution_count": 5,
   "metadata": {},
   "outputs": [
    {
     "name": "stdout",
     "output_type": "stream",
     "text": [
      "0.7837985890347726\n",
      "0.30331272607892745\n",
      "0.4765969541523558\n",
      "0.5833820394550312\n",
      "0.9081128851953352\n",
      " --------------\n",
      "0.8444218515250481\n",
      "0.7579544029403025\n",
      "0.420571580830845\n",
      "0.25891675029296335\n",
      "0.5112747213686085\n"
     ]
    }
   ],
   "source": [
    "# menghasilkan angka random\n",
    "\n",
    "from random import random\n",
    "for i in range(5):\n",
    "    print(random()) # sintak sama dijalankan di client yang berbeda hasilnya pasti beda\n",
    "    \n",
    "# atau menggunakan entiti seed()\n",
    "print(\" --------------\")\n",
    "from random import seed\n",
    "\n",
    "seed(0)\n",
    "\n",
    "for i in range(5):\n",
    "    print(random()) # sintak sama dijalankan di client yang berbeda hasilnya SAMA !\n",
    "    \n"
   ]
  },
  {
   "attachments": {},
   "cell_type": "markdown",
   "metadata": {},
   "source": [
    "Lingkungan Komputer kita\n",
    "\n",
    "berikut laayer dari pemrograman :\n",
    "\n",
    "kode\n",
    "-\n",
    "python\n",
    "-\n",
    "Operating System(linux)\n",
    "-\n",
    "hardware\n",
    "\n",
    "\n",
    "Module \"platform\"\n",
    "\n",
    "- modul ini memungkinkan kita utk akses data yang mendasari platform kita seperti OS, atau interpreter version.\n",
    "\n",
    "silahkan run snippet berikut:\n",
    "\n",
    "from platform import platform\n",
    "print(platform())\n",
    "print(platform(1))\n",
    "print(platform(0,1))\n",
    "\n",
    "- gunakan fungsi machine utk melihat nama prosesor kita\n",
    "\n",
    "from platform import machine\n",
    "print(machine())\n",
    "\n",
    "- gunakan fungsi processor() utk cek nama prosesor\n",
    "\n",
    "from platform import processor as proc\n",
    "\n",
    "print(proc())"
   ]
  },
  {
   "cell_type": "code",
   "execution_count": 15,
   "metadata": {},
   "outputs": [
    {
     "name": "stdout",
     "output_type": "stream",
     "text": [
      "Linux-6.1.0-7-amd64-x86_64-with-glibc2.36\n",
      "Linux-6.1.0-7-amd64-x86_64-with-glibc2.36\n",
      "Linux-6.1.0-7-amd64-x86_64-with-glibc2.36\n",
      "---------------\n",
      "x86_64\n",
      "-------\n",
      "\n",
      "Linux\n",
      "----------------\n",
      "#1 SMP PREEMPT_DYNAMIC Debian 6.1.20-2 (2023-04-08)\n",
      "CPython\n",
      "('3', '11', '2')\n"
     ]
    }
   ],
   "source": [
    "from platform import platform\n",
    "\n",
    "print(platform())\n",
    "print(platform(1))\n",
    "print(platform(0,1))\n",
    "\n",
    "print(\"---------------\")\n",
    "\n",
    "from platform import machine #cek jenis proc\n",
    "\n",
    "print(machine())\n",
    "\n",
    "print(\"-------\")\n",
    "\n",
    "from platform import processor\n",
    "print(processor()) # cek nama asli prosesor jika available\n",
    "\n",
    "from platform import system\n",
    "\n",
    "print(system()) # jenis sistem generik nya\n",
    "\n",
    "print(\"----------------\")\n",
    "\n",
    "from platform import version #cek versi OS\n",
    "\n",
    "print(version())\n",
    "\n",
    "# cek implementasi python (dalam hal ini kita pake CPython)\n",
    "from platform import python_implementation\n",
    "print(python_implementation())\n",
    "\n",
    "# cek versi python yang sedang digunakan\n",
    "from platform import python_version_tuple\n",
    "print(python_version_tuple()) #3.11.2"
   ]
  },
  {
   "attachments": {},
   "cell_type": "markdown",
   "metadata": {},
   "source": [
    "untuk melihat betapa bejibunnya modul python, cek link berikut:\n",
    "\n",
    "https://docs.python.org/3/py-modindex.html\n",
    "\n"
   ]
  },
  {
   "attachments": {},
   "cell_type": "markdown",
   "metadata": {},
   "source": [
    "Package (Paket)\n",
    "\n",
    "package berisi module, module berisi kumpulan fungsi"
   ]
  },
  {
   "attachments": {},
   "cell_type": "markdown",
   "metadata": {},
   "source": [
    "Bikin module\n",
    "\n",
    "1. buat file misal dengan nama moodol.py\n",
    "2. isikan berikut :\n",
    "\n",
    "print(\"saya adalah module sederhana\")\n",
    "\n",
    "3. buatkan main.py lalu import moodol diatas dengan snipet berikut:\n",
    "\n",
    "```\n",
    "import moodol.py\n",
    "\n",
    "```\n",
    "\n",
    "4. jalankan main.py lewat terminal dg cara:\n",
    "\n",
    "python3 main.py\n",
    "\n",
    "yang terjadi, setelah berhasil run hasil import, di folder yang sama dg projek, terdapat folder yang otomatis dibuat oleh python bernama _pycache_ berisi file moodol.cpython-311.pyc\n",
    "\n",
    "file ini adalah file hasil kompile yg siap dijalankan komputer.\n",
    "\n",
    "5. Python dapat melakukan lebih. Python juga membuat var yang disebut __name__ . Tiap file source menggunakan var diatas masing-masing. file tsb tidak dishare diantara modul2 lainnya. coba modif file moodol.py seperti berikut:\n",
    "\n",
    "``` \n",
    "print(\" I like to be a module\")\n",
    "print(__name__)\n",
    "```\n",
    "\n",
    "lalu jalankan main.py\n",
    "\n",
    "hasilnya :\n",
    "\n",
    "- kalau jalankan langsung dari moodol.py,  __name__ tercetak menjadi __main__\n",
    "\n",
    "- kalau jalankan via main.py, variabel __name__ akan mencetak nama modulnya dalam hal ini adalah moodol"
   ]
  },
  {
   "attachments": {},
   "cell_type": "markdown",
   "metadata": {},
   "source": [
    "misalkan kita meletakkan counter = 0 di dalam moodol.py\n",
    "\n",
    "``` \n",
    "counter = 0\n",
    "\n",
    "if __name__ == \"__main__\":\n",
    "    print(\"I prefer to be a module.\")\n",
    "else:\n",
    "    print(\"I like to be a module.\")\n",
    "    \n",
    "```\n",
    "\n",
    "lalu kita akses melalui main.py dengan menambahkan snipet berikut:\n",
    "\n",
    "```\n",
    "print(modool.counter) #akses variable counter di moodol\n",
    "```\n",
    "output : 0\n",
    "\n",
    "main.py dapat mengakses variabel didalam moodol. maka dari itu, hal ini akan terselesaikan jika kita menamai var kita dengan\n",
    "\n",
    "__namaVar__ agar menjadi var private alias tidak bs diakses oleh file lainnya. namun harap diingat, ini hanya sebuah kesepakatan bersama, bisa saja tidak dipatuhi oleh si pembuat modul.\n"
   ]
  },
  {
   "attachments": {},
   "cell_type": "markdown",
   "metadata": {},
   "source": [
    "mari kita tulis lagi sebuah kode di dalam moodol.py\n",
    "\n",
    "```\n",
    "#!/usr/bin/env python3 \n",
    "\n",
    "\"\"\" module.py - an example of a Python module \"\"\"\n",
    "\n",
    "__counter = 0\n",
    "\n",
    "\n",
    "def suml(the_list):\n",
    "    global __counter\n",
    "    __counter += 1\n",
    "    the_sum = 0\n",
    "    for element in the_list:\n",
    "        the_sum += element\n",
    "    return the_sum\n",
    "\n",
    "\n",
    "def prodl(the_list):\n",
    "    global __counter    \n",
    "    __counter += 1\n",
    "    prod = 1\n",
    "    for element in the_list:\n",
    "        prod *= element\n",
    "    return prod\n",
    "\n",
    "\n",
    "if __name__ == \"__main__\":\n",
    "    print(\"I prefer to be a module, but I can do some tests for you.\")\n",
    "    my_list = [i+1 for i in range(5)]\n",
    "    print(suml(my_list) == 15)\n",
    "    print(prodl(my_list) == 120)\n",
    "\n",
    "\n",
    "```\n",
    "\n",
    "penjelasan kode diatas :\n",
    "\n",
    "- awal kode dimulai dengan #!, disebut sebagai hashbang, shebang. kode ini sebenarnya tidak berpengaruh apa apa. namun dibeberapa environment web server, tidak adanya kode ini akan menyebabkan masalah\n",
    "\n",
    "- baris komen selanjutnya sebelum _counter adalah doc-string. berfungsi sebagai penjelas maksud dan isian dari module\n",
    "- menggunakan __name__ utk mendeeksi kapan file dijalankan sendiri\n",
    "\n",
    "lalu, import module serta fungsi2 lainnya ke main.py"
   ]
  },
  {
   "attachments": {},
   "cell_type": "markdown",
   "metadata": {},
   "source": [
    "Selama ini, dibahasan sebelumnya Kita asumsikan bahwa main.py file ada di lokasi yang sama dengan direktori folder module yang terimpor di main.py\n",
    "\n",
    "mari kita coba sesuatu yang lebih sulit. \n",
    "\n",
    "asumsinya, kita menggunakan windows, lalu script main.py ada di c:\\Users\\user\\py\\progs dan module ada di C:\\Users\\user\\py\\modules\n",
    "\n",
    "bagaimana cara python mencari modul tsb ?\n",
    "last session (1.3.1.5 modules n packages)\n"
   ]
  }
 ],
 "metadata": {
  "kernelspec": {
   "display_name": "Python 3",
   "language": "python",
   "name": "python3"
  },
  "language_info": {
   "codemirror_mode": {
    "name": "ipython",
    "version": 3
   },
   "file_extension": ".py",
   "mimetype": "text/x-python",
   "name": "python",
   "nbconvert_exporter": "python",
   "pygments_lexer": "ipython3",
   "version": "3.11.2"
  },
  "orig_nbformat": 4
 },
 "nbformat": 4,
 "nbformat_minor": 2
}
