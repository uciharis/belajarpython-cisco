{
 "cells": [
  {
   "attachments": {},
   "cell_type": "markdown",
   "metadata": {},
   "source": [
    "String dll\n",
    "\n",
    "yang akan kita pelajari :\n",
    "- karakter, string dan standard koding\n",
    "- string vs list\n",
    "- metode list\n",
    "- metode string\n",
    "- teknik python menangani runtime error\n",
    "- kontrol eror menggunakan try n except\n",
    "- tingkatan exception\n",
    "\n",
    "(2.1.1.1 )"
   ]
  }
 ],
 "metadata": {
  "language_info": {
   "name": "python"
  },
  "orig_nbformat": 4
 },
 "nbformat": 4,
 "nbformat_minor": 2
}
