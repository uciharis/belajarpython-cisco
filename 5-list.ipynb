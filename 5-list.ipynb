{
 "cells": [
  {
   "attachments": {},
   "cell_type": "markdown",
   "metadata": {},
   "source": [
    "LIST\n",
    "\n",
    "untuk menyimpan, memproses dan membaca ratusan bilangan, apakah kita harus membuat masing-masing variabel terpisah ? sangat tidak efisien\n",
    "\n",
    "var1= int(input())\n",
    "var2 = int(input())\n",
    ".\n",
    ".\n",
    ".\n",
    "varn = int(input())\n",
    "\n",
    "kita sudah belajar bahwa mendeklar variable hanya dapat simpan 1 nilai saja pada satu waktu. Variabel tersebut disebut scalars secara matematika. Semua variabel yang sejauh ini kita pakai sebenarnya berbentuk scalars.\n",
    "\n",
    "maka dari itu diperkenalkan list. list adalah sekumpulan elemen dan tiap elemen adalah scalars. \n",
    "nb : urutan elemen pada List selalu dimulai dari 0. item pertama yang tersimpan pada list diberi urutan 0"
   ]
  },
  {
   "attachments": {},
   "cell_type": "markdown",
   "metadata": {},
   "source": [
    "Indexing List\n",
    "\n",
    "gimana cara mengganti nilai pada elemen di dalam list?\n",
    "\n",
    "coba kita assign nilai 111 sebagai 1st element"
   ]
  },
  {
   "cell_type": "code",
   "execution_count": 14,
   "metadata": {},
   "outputs": [
    {
     "name": "stdout",
     "output_type": "stream",
     "text": [
      "original list konten [10, 5, 7, 2, 1]\n",
      "list konten terbaru [111, 5, 7, 2, 1]\n",
      "list berubah menjadi [111, 1, 7, 2, 1]\n"
     ]
    }
   ],
   "source": [
    "nomor = [10,5,7,2,1] # list blm dirubah\n",
    "print(\"original list konten\", nomor)\n",
    "nomor[0]=111\n",
    "print(\"list konten terbaru\", nomor) #list pertama berubah dari 10 ke 111\n",
    "nomor[1]=nomor[4] # elemen kedua meng-copy elemen kelima menjadi 111,1,7,2,1\n",
    "print(\"list berubah menjadi\", nomor)"
   ]
  },
  {
   "attachments": {},
   "cell_type": "markdown",
   "metadata": {},
   "source": [
    "nilai yang ada dalam bracket [] disebut index. sejauh ini, indeks masih berupa literal atau angka, namun bisa juga diisi ekspresi atau formula"
   ]
  },
  {
   "attachments": {},
   "cell_type": "markdown",
   "metadata": {},
   "source": [
    "Mengakses isi list\n",
    "\n",
    "tiap elemen pada list bs diakses terpisah, caranya dg mencetaknya\n",
    "\n",
    "print(nomor[0]) # mencetak elemen ke-1\n",
    "output : 111\n",
    "\n",
    " Fungsi len()\n",
    "\n",
    " berguna utk cek panjang (lenght) sebuah list"
   ]
  },
  {
   "cell_type": "code",
   "execution_count": 15,
   "metadata": {},
   "outputs": [
    {
     "name": "stdout",
     "output_type": "stream",
     "text": [
      "5\n",
      "list sekarang adalah:  [111, 1, 7, 2, 1]\n"
     ]
    }
   ],
   "source": [
    "print(len(nomor))\n",
    "print(\"list sekarang adalah: \",nomor)"
   ]
  },
  {
   "attachments": {},
   "cell_type": "markdown",
   "metadata": {},
   "source": [
    "Menghapus elemen dalam list\n",
    "\n",
    "menghapus isi list elemen tertentu menggunakan instruksi bernama del. ini adalah instruksi dan bukan sebuah fungsi\n",
    "\n",
    "nb: kita tidak bs mengakses elemen yang tidak ada di dalam list\n",
    "misal panjang list adalah 4, maka kita tidak bs akses index ke-4 dan lebih dari itu"
   ]
  },
  {
   "cell_type": "code",
   "execution_count": 16,
   "metadata": {},
   "outputs": [
    {
     "name": "stdout",
     "output_type": "stream",
     "text": [
      "panjang list sekarang :  4 dan list sekarang yaitu : [1, 7, 2, 1]\n"
     ]
    }
   ],
   "source": [
    "del nomor[0]\n",
    "print(\"panjang list sekarang : \", len(nomor), \"dan list sekarang yaitu :\",nomor)"
   ]
  },
  {
   "attachments": {},
   "cell_type": "markdown",
   "metadata": {},
   "source": [
    "Negatif Index\n",
    "\n",
    "elemen terakhir (0 di ujung) dari sebuah list adalah -1\n",
    "elemen pertama sebelum terakhir (1 dari ujung) dari sebuah list adalah -2\n",
    "dst."
   ]
  },
  {
   "cell_type": "code",
   "execution_count": 18,
   "metadata": {},
   "outputs": [
    {
     "name": "stdout",
     "output_type": "stream",
     "text": [
      "4321\n",
      "567\n"
     ]
    }
   ],
   "source": [
    "nomber = [1,44,567,4321]\n",
    "print(nomber[-1]) # paling ujung yaitu 4321\n",
    "print(nomber[-2]) # elemen ke-1 sblm paling ujung yaitu 567"
   ]
  },
  {
   "attachments": {},
   "cell_type": "markdown",
   "metadata": {},
   "source": [
    "Fungsi vs Metod\n",
    "\n",
    "- metod : jenis spesifik dari fungsi. sangat mirip fungsi tetapi beda cara kerja dan cara memanggilnya.\n",
    "metod bs melakukan pekerjaan apapun, tetapi juga dapat mengubah status entitas yang dipilihnya. metod dimiliki oleh data yang bekerja padanya.\n",
    "\n",
    "- fungsi : tidak merupakan milik data apapun. tetapi dimiliki oleh keseluruhan kode\n",
    "\n",
    "secara umum, pemanggilan fungsi yang khusus dg cara berikut:\n",
    "\n",
    "result = function(args)\n",
    "\n",
    "fungsi mengambil suatu argumen, melakukan sesuatu dan mengembalikan hasil tertentu\n",
    "\n",
    "sedangkan tipikal metod,pemanggilannya seperti ini:\n",
    "\n",
    "result = data.method(arg)\n",
    "\n",
    "nb: pemanggilan metod didahului dg nama data(karena metode dimiliki oleh data yang bekerja padanya), ditambahkan titik (dot) lalu diikuti nama metod, disambung dengan tanda kurung berisi argumen didalamnya.\n",
    "metod akan berkelakuan seperti fungsi, tetapi dapat melakukan sesuatu yang lebih, seperti mengganti keadaan data tsb\n",
    "\n"
   ]
  },
  {
   "attachments": {},
   "cell_type": "markdown",
   "metadata": {},
   "source": [
    "Menambah element ke list dengan metod append() dan insert()\n",
    "\n",
    "- append()\n",
    "sebuah elemen baru dapat ditambahkan ke akhir elemen dari suatu list\n",
    "\n",
    "list.append(value)\n",
    "\n",
    "append ambil nilai argumen dan meletakkannya ke akhir elemen pada list tsb. kemudian panjang list akan bertambah\n",
    "\n",
    "\n",
    "- insert()\n",
    "metod ini lebih pinter lagi,  dapat menambahkan elemen baru pada tempat tertentu di dalam list\n",
    "\n",
    "list.insert(lokasi, value)"
   ]
  },
  {
   "cell_type": "code",
   "execution_count": 20,
   "metadata": {},
   "outputs": [
    {
     "name": "stdout",
     "output_type": "stream",
     "text": [
      "[1, 3, 5, 7, 999]\n",
      "[111, 1, 3, 5, 7, 999]\n"
     ]
    }
   ],
   "source": [
    "aa = [1,3,5,7]\n",
    "aa.append(999) # menambah 999 di akhir baris dg append()\n",
    "print(aa) # output: 1,3,5,7,999\n",
    "\n",
    "aa.insert(0,111) # menambah 111 pada index ke-0 atau elemen pertama\n",
    "print(aa) # output: 111,1,3,5,7,999\n"
   ]
  },
  {
   "attachments": {},
   "cell_type": "markdown",
   "metadata": {},
   "source": [
    "Menambah elemen pada list (lanjutan)\n",
    "\n",
    "kita juga bs membuat list yang bisa disesuaikan dg kebutuhan menggunakan list kosong lalu menambahkan elemen baru ke dalamnya\n",
    "contoh:"
   ]
  },
  {
   "cell_type": "code",
   "execution_count": 23,
   "metadata": {},
   "outputs": [
    {
     "name": "stdout",
     "output_type": "stream",
     "text": [
      "[0, 1, 2, 3, 4, 5, 6, 7, 8, 9]\n",
      "[10, 9, 8, 7, 6, 5, 4, 3, 2, 1, 0]\n"
     ]
    }
   ],
   "source": [
    "my_list = [] # list kosong\n",
    "for i in range(10): # i adalah index, sehingga dimulai dr 0 diakhir n-1\n",
    "    my_list.append(i)\n",
    "    \n",
    "print(my_list)\n",
    "\n",
    "# atau modifikasi dg insert()\n",
    "\n",
    "mynew_list = []\n",
    "for a in range(11):\n",
    "    mynew_list.insert(0,a) # karena penambahan selalu diletakkan di index-0\n",
    "print(mynew_list) # elemen nya akan terdesak ke kanan"
   ]
  },
  {
   "cell_type": "code",
   "execution_count": 25,
   "metadata": {},
   "outputs": [
    {
     "name": "stdout",
     "output_type": "stream",
     "text": [
      "27\n",
      "27\n"
     ]
    }
   ],
   "source": [
    "# mari coba snippet yang lain\n",
    "\n",
    "list_a = [10, 1, 8, 3, 5]\n",
    "total = 0 # inisiasi awal var total\n",
    "\n",
    "for b in range(len(list_a)):\n",
    "    total += list_a[b]\n",
    "\n",
    "print(total)\n",
    "\n",
    "# coba snippet yang lain lagi\n",
    "# snippet ini dimodifikasi shg tidak perlu menggunakan len()\n",
    "\n",
    "list_b = [10, 1, 8, 3, 5]\n",
    "totol = 0\n",
    "\n",
    "for j in list_b:\n",
    "    totol += j\n",
    "\n",
    "print(totol)\n",
    "\n"
   ]
  },
  {
   "attachments": {},
   "cell_type": "markdown",
   "metadata": {},
   "source": [
    "Mengurutkan list sederhana\n",
    "\n",
    "coba pelajari algo ini :"
   ]
  },
  {
   "cell_type": "code",
   "execution_count": 26,
   "metadata": {},
   "outputs": [
    {
     "name": "stdout",
     "output_type": "stream",
     "text": [
      "[2, 4, 6, 8, 10]\n"
     ]
    }
   ],
   "source": [
    "my_list = [8, 10, 6, 2, 4]  # list to sort\n",
    "swapped = True  # It's a little fake, we need it to enter the while loop.\n",
    "\n",
    "while swapped:\n",
    "    swapped = False  # no swaps so far\n",
    "    for i in range(len(my_list) - 1):\n",
    "        if my_list[i] > my_list[i + 1]:\n",
    "            swapped = True  # a swap occurred!\n",
    "            my_list[i], my_list[i + 1] = my_list[i + 1], my_list[i]\n",
    "\n",
    "print(my_list)\n",
    "\n"
   ]
  },
  {
   "attachments": {},
   "cell_type": "markdown",
   "metadata": {},
   "source": [
    "Python memiliki mekanisme tersendiri dalam melakukan sort. sehingga kita tidak perlu lagi menulis sendiri sintak sorting (seperti contoh diatas).\n",
    "\n",
    "kita akan menggunakan metod sort(). contoh penggunaan sbb:"
   ]
  },
  {
   "cell_type": "code",
   "execution_count": 27,
   "metadata": {},
   "outputs": [
    {
     "name": "stdout",
     "output_type": "stream",
     "text": [
      "[32, 33, 35, 57, 67]\n"
     ]
    }
   ],
   "source": [
    "isi = [57,35,33,67,32]\n",
    "isi.sort() #metod sort bawaan python\n",
    "print(isi) # output : 32,33,35,57,67"
   ]
  },
  {
   "attachments": {},
   "cell_type": "markdown",
   "metadata": {},
   "source": [
    "ada juga metod reverse() utk membalik urutan list.\n",
    "\n",
    "misal 2,3,4,5 menjadi terbalik 5,4,3,2"
   ]
  },
  {
   "attachments": {},
   "cell_type": "markdown",
   "metadata": {},
   "source": [
    "Powerful Slices\n",
    "\n",
    "slice adalah elemen dari sintak python yang membuatmu bisa membuat copy-an sebuah full-list atau sebagian copy-an sebuah list\n",
    "\n",
    "polanya yaitu\n",
    "\n",
    "list[start:end]\n",
    "start : index termulai\n",
    "end : elemen tepat sebelum elemen ke-end\n",
    "\n",
    "contoh:"
   ]
  },
  {
   "cell_type": "code",
   "execution_count": 28,
   "metadata": {},
   "outputs": [
    {
     "name": "stdout",
     "output_type": "stream",
     "text": [
      "[1]\n"
     ]
    }
   ],
   "source": [
    "list_1 = [1]\n",
    "list_2 = list_1[:]\n",
    "list_1[0] = 2\n",
    "print(list_2)"
   ]
  },
  {
   "attachments": {},
   "cell_type": "markdown",
   "metadata": {},
   "source": [
    "atau contoh lain"
   ]
  },
  {
   "cell_type": "code",
   "execution_count": 29,
   "metadata": {},
   "outputs": [
    {
     "name": "stdout",
     "output_type": "stream",
     "text": [
      "[8, 6]\n"
     ]
    }
   ],
   "source": [
    "list_lagi = [10, 8, 6, 4, 2]\n",
    "new_list = list_lagi[1:3] # start nya dimulai dari index 1 yaitu 8 , dan kurang dari 3 element( atau sama dengan 2 elemen dimulai dr elemen start)\n",
    "# maka yang akan dicopy adalah 8 (index-1 sbg elemen pertama) lalu 6(elemen kedua  sblm elemen ketiga)\n",
    "print(new_list)"
   ]
  }
 ],
 "metadata": {
  "kernelspec": {
   "display_name": "Python 3",
   "language": "python",
   "name": "python3"
  },
  "language_info": {
   "codemirror_mode": {
    "name": "ipython",
    "version": 3
   },
   "file_extension": ".py",
   "mimetype": "text/x-python",
   "name": "python",
   "nbconvert_exporter": "python",
   "pygments_lexer": "ipython3",
   "version": "3.11.3"
  },
  "orig_nbformat": 4
 },
 "nbformat": 4,
 "nbformat_minor": 2
}
