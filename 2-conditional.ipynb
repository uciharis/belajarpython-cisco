{
 "cells": [
  {
   "attachments": {},
   "cell_type": "markdown",
   "metadata": {},
   "source": [
    "Conditional \n",
    "\n",
    "python menawarkan instruksi khusus yg dinamakan conditional statement.\n",
    "\n",
    "bentuk pertamanya seperti berikut:\n",
    "\n",
    "if true_or_not:\n",
    "    do_this_if_true\n",
    "\n",
    "pernyataan diatas terdiri dari\n",
    "- keyword \"if\"\n",
    "- 1 atau lebih whitespaces\n",
    "- sebuah pernyataan berisi nilai True atau False\n",
    "- \"titik dua\" yang diikuti dg baris baru\n",
    "- \"indented\" atau yang biasa direkomendasikan adalah spasi 4x\n",
    "- perlu dilakukan indentasi yang sama, karena di python 3 tidak diperbolehkan mencampur spasi dan tab/indent\n",
    "\n",
    "statemen bekerja dengan :\n",
    "\n",
    "- ekspresi bernilai True, maka indented statement akan dieksekusi\n",
    "- jika nilai False, maka indented statement akan dilewati atau tdk dieksekusi\n",
    "\n",
    "contoh:\n",
    "\n",
    "if cuaca_bagus :\n",
    "    jalan_jalan() #dieksekusi jika benar, diskip jika salah\n",
    "makan_dirumah() #karena tidak indentasi maka bukan bagian dr if"
   ]
  }
 ],
 "metadata": {
  "language_info": {
   "name": "python"
  },
  "orig_nbformat": 4
 },
 "nbformat": 4,
 "nbformat_minor": 2
}
