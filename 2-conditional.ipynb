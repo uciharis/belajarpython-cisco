{
 "cells": [
  {
   "attachments": {},
   "cell_type": "markdown",
   "metadata": {},
   "source": [
    "Conditional \n",
    "\n",
    "python menawarkan instruksi khusus yg dinamakan conditional statement.\n",
    "\n",
    "bentuk pertamanya seperti berikut:\n",
    "\n",
    "if true_or_not:\n",
    "    do_this_if_true\n",
    "\n",
    "pernyataan diatas terdiri dari\n",
    "- keyword \"if\"\n",
    "- 1 atau lebih whitespaces\n",
    "- sebuah pernyataan berisi nilai True atau False\n",
    "- \"titik dua\" yang diikuti dg baris baru\n",
    "- \"indented\" atau yang biasa direkomendasikan adalah spasi 4x\n",
    "- perlu dilakukan indentasi yang sama, karena di python 3 tidak diperbolehkan mencampur spasi dan tab/indent\n",
    "\n",
    "statemen bekerja dengan :\n",
    "\n",
    "- ekspresi bernilai True, maka indented statement akan dieksekusi\n",
    "- jika nilai False, maka indented statement akan dilewati atau tdk dieksekusi\n",
    "\n",
    "contoh:\n",
    "\n",
    "if cuaca_bagus :\n",
    "    jalan_jalan() #dieksekusi jika benar, diskip jika salah\n",
    "makan_dirumah() #karena tidak indentasi maka bukan bagian dr if\n",
    "\n",
    "contoh lain:\n",
    "\n",
    "if bobo_counter >=120: #cek hitungan bobo jika lewat atau sama dengan 120 maka\n",
    "    sleep_and_dream() #eksekusi ini jika True\n",
    "kasih_makan_kucing() # tidak bergantung dg if karena diluar blok if (beda indentasi)"
   ]
  },
  {
   "attachments": {},
   "cell_type": "markdown",
   "metadata": {},
   "source": [
    "Conditional Execution : if-else\n",
    "\n",
    "kita mulai dg statemen sederhana seperti : jika weather good, maka jalan2\n",
    "jika weather bad, maka go to theater\n",
    "\n",
    "maka kodenya akan seperti ini:\n",
    "\n",
    "if weather_good:\n",
    "    jalan() # dijalankan jika kondisi True\n",
    "else: #opsi False\n",
    "    go_theater() # dijalankan utk selain True\n",
    "\n",
    "nb: \"else\" adalah keyword\n",
    "\n",
    "modifikasi lain dr if-else seperti berikut:\n",
    "\n",
    "if weather_good: #argument cek\n",
    "    go_walk() # jika True\n",
    "    have_fun() # jika True\n",
    "else: # jika False\n",
    "    go_theatre() # dijalankan False\n",
    "    enjoy_movie() # dijalankan False\n",
    "mamam_siang() # diluar statement if-else(beda indentasi)"
   ]
  },
  {
   "attachments": {},
   "cell_type": "markdown",
   "metadata": {},
   "source": [
    "Nested if-else\n",
    "\n",
    "bisa dimodifikasi adanya if di dalam if\n",
    "misal, jika cuaca bagus kita akan makan\n",
    "namun menu yang dmakan ditentukan dengan jika kita menemukan restoran\n",
    "jika tidak maka beli street food sj\n",
    "argumen else nya, jika cuaca tidak bagus maka pergi nonton saja jika tiket available\n",
    "jika tidak maka window shopping saja\n",
    "\n",
    "implementasi kodenya sbb:\n",
    "\n",
    "if weather_good():\n",
    "    if restoran_found: \n",
    "        makan_restoran()\n",
    "    else:\n",
    "        jajan_streetfood()\n",
    "else:\n",
    "    if tiket_available:\n",
    "        go_theatre()\n",
    "    else:\n",
    "        windows_shopping()"
   ]
  },
  {
   "cell_type": "code",
   "execution_count": 1,
   "metadata": {},
   "outputs": [
    {
     "name": "stdout",
     "output_type": "stream",
     "text": [
      "angka terbesar adalah 7\n"
     ]
    }
   ],
   "source": [
    "number1 = 4\n",
    "number2 = 7\n",
    "if number1 > number2:\n",
    "    large = number1\n",
    "else:\n",
    "    large = number2\n",
    "\n",
    "print(\"angka terbesar adalah\", large)"
   ]
  },
  {
   "attachments": {},
   "cell_type": "markdown",
   "metadata": {},
   "source": [
    "elif\n",
    "\n",
    "ini adalah new Python keyword. ini bentuk simpel dar else if\n",
    "\n",
    "\"elif\" digunakan utk cek kondisi lebih dari 1 dan stop jika statemen bernilai True\n",
    "\n",
    "contoh:\n",
    "\n",
    "if weather_good:\n",
    "    go_walk()\n",
    "elif tiket_available:\n",
    "    go_theatre()\n",
    "elif table_available:\n",
    "    go_lunch\n",
    "else:\n",
    "    maen_catur_saja()\n",
    "\n",
    "\n",
    "penjelasan:\n",
    "- \"else\" adalah argumen terakhir\n",
    "- hanya 1 percabangan True yang dieksekusi\n",
    "- jika tidak ada cabang, ada kemungkinan tidak ada percabangan yang dieksekusi\n"
   ]
  },
  {
   "attachments": {},
   "cell_type": "markdown",
   "metadata": {},
   "source": [
    "Berikut beberapa contoh conditional statemen :"
   ]
  },
  {
   "attachments": {},
   "cell_type": "markdown",
   "metadata": {},
   "source": [
    "a. single if statement :   "
   ]
  },
  {
   "cell_type": "code",
   "execution_count": 2,
   "metadata": {},
   "outputs": [
    {
     "name": "stdout",
     "output_type": "stream",
     "text": [
      "x sama dengan 10\n"
     ]
    }
   ],
   "source": [
    "x=10\n",
    "if x == 10:\n",
    "    print (\"x sama dengan 10\") #dieksekusi jika True"
   ]
  },
  {
   "attachments": {},
   "cell_type": "markdown",
   "metadata": {},
   "source": [
    "b. Beberapa if statements :"
   ]
  },
  {
   "cell_type": "code",
   "execution_count": 3,
   "metadata": {},
   "outputs": [
    {
     "name": "stdout",
     "output_type": "stream",
     "text": [
      "x lebih besar dr 5\n",
      "x sama dengan 10\n"
     ]
    }
   ],
   "source": [
    "x=10\n",
    "if x>5:\n",
    "    print(\"x lebih besar dr 5\")\n",
    "if x<10:\n",
    "    print(\"x kurang dari 10\")\n",
    "if x==10:\n",
    "    print(\"x sama dengan 10\")"
   ]
  },
  {
   "attachments": {},
   "cell_type": "markdown",
   "metadata": {},
   "source": [
    "c. if-else statement:"
   ]
  },
  {
   "cell_type": "code",
   "execution_count": 4,
   "metadata": {},
   "outputs": [
    {
     "name": "stdout",
     "output_type": "stream",
     "text": [
      "x lebih besar dari 10\n"
     ]
    }
   ],
   "source": [
    "x=10\n",
    "if x<10:\n",
    "    print(\"x kurang dari 10\")\n",
    "else:\n",
    "    print(\"x lebih besar dari 10\")"
   ]
  },
  {
   "attachments": {},
   "cell_type": "markdown",
   "metadata": {},
   "source": [
    "d. Beberapa if diikuti else:"
   ]
  },
  {
   "cell_type": "code",
   "execution_count": 5,
   "metadata": {},
   "outputs": [
    {
     "name": "stdout",
     "output_type": "stream",
     "text": [
      "x>5\n",
      "x >8\n",
      "yang lain akan dieksekusi\n"
     ]
    }
   ],
   "source": [
    "x=10\n",
    "if x>5:\n",
    "    print(\"x>5\")\n",
    "if x>8:\n",
    "    print(\"x >8\")\n",
    "if x>10:\n",
    "    print(\"x>10\")\n",
    "else:\n",
    "    print(\"yang lain akan dieksekusi\")"
   ]
  },
  {
   "attachments": {},
   "cell_type": "markdown",
   "metadata": {},
   "source": [
    "e. if-elif-else statement:"
   ]
  },
  {
   "cell_type": "code",
   "execution_count": 6,
   "metadata": {},
   "outputs": [
    {
     "name": "stdout",
     "output_type": "stream",
     "text": [
      "x == 10\n",
      "x > 5\n"
     ]
    }
   ],
   "source": [
    "x = 10\n",
    "\n",
    "if x == 10:  # True\n",
    "    print(\"x == 10\")\n",
    "\n",
    "if x > 15:  # False\n",
    "    print(\"x > 15\")\n",
    "\n",
    "elif x > 10:  # False\n",
    "    print(\"x > 10\")\n",
    "\n",
    "elif x > 5:  # True\n",
    "    print(\"x > 5\")\n",
    "\n",
    "else:\n",
    "    print(\"else will not be executed\")\n",
    "\n"
   ]
  },
  {
   "attachments": {},
   "cell_type": "markdown",
   "metadata": {},
   "source": [
    "f. Nested conditional statement:"
   ]
  },
  {
   "cell_type": "code",
   "execution_count": 7,
   "metadata": {},
   "outputs": [
    {
     "name": "stdout",
     "output_type": "stream",
     "text": [
      "nested: x == 10\n"
     ]
    }
   ],
   "source": [
    "x = 10\n",
    "\n",
    "if x > 5:  # True\n",
    "    if x == 6:  # False\n",
    "        print(\"nested: x == 6\")\n",
    "    elif x == 10:  # True\n",
    "        print(\"nested: x == 10\")\n",
    "    else:\n",
    "        print(\"nested: else\")\n",
    "else:\n",
    "    print(\"else\")\n",
    "\n"
   ]
  }
 ],
 "metadata": {
  "kernelspec": {
   "display_name": "Python 3",
   "language": "python",
   "name": "python3"
  },
  "language_info": {
   "codemirror_mode": {
    "name": "ipython",
    "version": 3
   },
   "file_extension": ".py",
   "mimetype": "text/x-python",
   "name": "python",
   "nbconvert_exporter": "python",
   "pygments_lexer": "ipython3",
   "version": "3.10.10"
  },
  "orig_nbformat": 4
 },
 "nbformat": 4,
 "nbformat_minor": 2
}
